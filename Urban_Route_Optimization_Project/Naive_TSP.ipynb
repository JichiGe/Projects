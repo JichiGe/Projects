{
  "nbformat": 4,
  "nbformat_minor": 0,
  "metadata": {
    "colab": {
      "provenance": []
    },
    "kernelspec": {
      "name": "python3",
      "display_name": "Python 3"
    },
    "language_info": {
      "name": "python"
    }
  },
  "cells": [
    {
      "cell_type": "code",
      "source": [
        "!pip install osmnx"
      ],
      "metadata": {
        "colab": {
          "base_uri": "https://localhost:8080/"
        },
        "id": "66G30S24eMXa",
        "outputId": "1e9a55c4-c108-4981-cb38-87bee2b0f6b2"
      },
      "execution_count": 1,
      "outputs": [
        {
          "output_type": "stream",
          "name": "stdout",
          "text": [
            "Collecting osmnx\n",
            "  Downloading osmnx-1.8.0-py3-none-any.whl (102 kB)\n",
            "\u001b[2K     \u001b[90m━━━━━━━━━━━━━━━━━━━━━━━━━━━━━━━━━━━━━━━━\u001b[0m \u001b[32m102.9/102.9 kB\u001b[0m \u001b[31m1.4 MB/s\u001b[0m eta \u001b[36m0:00:00\u001b[0m\n",
            "\u001b[?25hRequirement already satisfied: geopandas>=0.12 in /usr/local/lib/python3.10/dist-packages (from osmnx) (0.13.2)\n",
            "Requirement already satisfied: networkx>=2.5 in /usr/local/lib/python3.10/dist-packages (from osmnx) (3.2.1)\n",
            "Requirement already satisfied: numpy>=1.20 in /usr/local/lib/python3.10/dist-packages (from osmnx) (1.23.5)\n",
            "Requirement already satisfied: pandas>=1.1 in /usr/local/lib/python3.10/dist-packages (from osmnx) (1.5.3)\n",
            "Requirement already satisfied: requests>=2.27 in /usr/local/lib/python3.10/dist-packages (from osmnx) (2.31.0)\n",
            "Requirement already satisfied: shapely>=2.0 in /usr/local/lib/python3.10/dist-packages (from osmnx) (2.0.2)\n",
            "Requirement already satisfied: fiona>=1.8.19 in /usr/local/lib/python3.10/dist-packages (from geopandas>=0.12->osmnx) (1.9.5)\n",
            "Requirement already satisfied: packaging in /usr/local/lib/python3.10/dist-packages (from geopandas>=0.12->osmnx) (23.2)\n",
            "Requirement already satisfied: pyproj>=3.0.1 in /usr/local/lib/python3.10/dist-packages (from geopandas>=0.12->osmnx) (3.6.1)\n",
            "Requirement already satisfied: python-dateutil>=2.8.1 in /usr/local/lib/python3.10/dist-packages (from pandas>=1.1->osmnx) (2.8.2)\n",
            "Requirement already satisfied: pytz>=2020.1 in /usr/local/lib/python3.10/dist-packages (from pandas>=1.1->osmnx) (2023.3.post1)\n",
            "Requirement already satisfied: charset-normalizer<4,>=2 in /usr/local/lib/python3.10/dist-packages (from requests>=2.27->osmnx) (3.3.2)\n",
            "Requirement already satisfied: idna<4,>=2.5 in /usr/local/lib/python3.10/dist-packages (from requests>=2.27->osmnx) (3.6)\n",
            "Requirement already satisfied: urllib3<3,>=1.21.1 in /usr/local/lib/python3.10/dist-packages (from requests>=2.27->osmnx) (2.0.7)\n",
            "Requirement already satisfied: certifi>=2017.4.17 in /usr/local/lib/python3.10/dist-packages (from requests>=2.27->osmnx) (2023.11.17)\n",
            "Requirement already satisfied: attrs>=19.2.0 in /usr/local/lib/python3.10/dist-packages (from fiona>=1.8.19->geopandas>=0.12->osmnx) (23.1.0)\n",
            "Requirement already satisfied: click~=8.0 in /usr/local/lib/python3.10/dist-packages (from fiona>=1.8.19->geopandas>=0.12->osmnx) (8.1.7)\n",
            "Requirement already satisfied: click-plugins>=1.0 in /usr/local/lib/python3.10/dist-packages (from fiona>=1.8.19->geopandas>=0.12->osmnx) (1.1.1)\n",
            "Requirement already satisfied: cligj>=0.5 in /usr/local/lib/python3.10/dist-packages (from fiona>=1.8.19->geopandas>=0.12->osmnx) (0.7.2)\n",
            "Requirement already satisfied: six in /usr/local/lib/python3.10/dist-packages (from fiona>=1.8.19->geopandas>=0.12->osmnx) (1.16.0)\n",
            "Requirement already satisfied: setuptools in /usr/local/lib/python3.10/dist-packages (from fiona>=1.8.19->geopandas>=0.12->osmnx) (67.7.2)\n",
            "Installing collected packages: osmnx\n",
            "Successfully installed osmnx-1.8.0\n"
          ]
        }
      ]
    },
    {
      "cell_type": "code",
      "execution_count": null,
      "metadata": {
        "id": "qwAeu4cAeIdn"
      },
      "outputs": [],
      "source": [
        "import osmnx as ox\n",
        "import networkx as nx\n",
        "import itertools\n",
        "import time\n",
        "\n",
        "def get_path_length(graph, path):\n",
        "    total_distance = 0\n",
        "    for i in range(len(path) - 1):\n",
        "        edge_data = graph.get_edge_data(path[i], path[i + 1], 0)\n",
        "        length = edge_data.get('length', 0)\n",
        "        total_distance += length\n",
        "    return total_distance\n",
        "\n",
        "# Your location data\n",
        "locations = {\n",
        "        'Lotus Land Tours': (49.27306, -123.1252),\n",
        "    'Harbour Cruises': (49.29351, -123.1339),\n",
        "    'Playland Amusement Park': (49.28278, -123.0373),\n",
        "    'VanDusen Botanical Garden': (49.23903, -123.1346),\n",
        "    'Vancouver Maritime Museum': (49.27752, -123.1474),\n",
        "    'Granville Island': (49.27211, -123.1358),\n",
        "    'PNE - Pacific National Exhibition': (49.28066, -123.0413),\n",
        "    'Bloedel Conservatory': (49.24337, -123.1173),\n",
        "    'Arts Club Theatre Company': (49.26134, -123.1385),\n",
        "    'CHI, the Spa at Shangri-la': (49.28587, -123.124),\n",
        "    'Douglas Reynolds Gallery': (49.26485, -123.1387),\n",
        "    'The Comedy Department': (49.28695, -123.1407)\n",
        "}\n",
        "\n",
        "# Create a graph from the OpenStreetMap data\n",
        "graph = ox.graph_from_place('Vancouver, Canada', network_type='drive')\n",
        "\n",
        "# Function to find the shortest path between two points\n",
        "def navigate(graph, start_coords, end_coords):\n",
        "    start_node = ox.distance.nearest_nodes(graph, start_coords[1], start_coords[0])\n",
        "    end_node = ox.distance.nearest_nodes(graph, end_coords[1], end_coords[0])\n",
        "    return nx.shortest_path(graph, start_node, end_node, weight='length')\n",
        "\n",
        "# Start the timer\n",
        "start_time = time.time()\n",
        "\n",
        "# Brute force TSP solution\n",
        "shortest_route = None\n",
        "min_distance = float('inf')\n",
        "\n",
        "for perm in itertools.permutations(locations.keys()):\n",
        "    current_distance = 0\n",
        "    for i in range(len(perm) - 1):\n",
        "        start_coords = locations[perm[i]]\n",
        "        end_coords = locations[perm[i + 1]]\n",
        "        path = navigate(graph, start_coords, end_coords)\n",
        "        current_distance += get_path_length(graph, path)\n",
        "\n",
        "    if current_distance < min_distance:\n",
        "        min_distance = current_distance\n",
        "        shortest_route = perm\n",
        "\n",
        "# End measuring time\n",
        "end_time = time.time()\n",
        "\n",
        "# Calculate the runtime\n",
        "runtime = end_time - start_time\n",
        "\n",
        "# Print the shortest route, its distance, and computation time\n",
        "print(\"Shortest route:\", \" -> \".join(shortest_route))\n",
        "print(\"Total distance:\", min_distance)\n",
        "print(f\"Computation time: {runtime:.2f} seconds\")\n"
      ]
    }
  ]
}